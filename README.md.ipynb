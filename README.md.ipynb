{
 "cells": [
  {
   "cell_type": "markdown",
   "id": "56862e07-0d94-4fd7-9583-b8e963667604",
   "metadata": {},
   "source": [
    "# Sentiment Analysis of Product Reviews using Naive Bayes\n"
   ]
  },
  {
   "cell_type": "markdown",
   "id": "40927b6d-d636-44e9-a712-86294ae6ac50",
   "metadata": {},
   "source": [
    "This project analyzes the sentiment (positive or negative) of product reviews using the Naive Bayes algorithm.\n"
   ]
  },
  {
   "cell_type": "markdown",
   "id": "6ee5d053-5ec0-49e1-b6b9-4ad0d029c406",
   "metadata": {},
   "source": [
    "## Features\n",
    "- Preprocessing of raw review text\n",
    "- Training a Naive Bayes classifier\n",
    "- Prediction of sentiment for new reviews\n"
   ]
  },
  {
   "cell_type": "markdown",
   "id": "488227b3-5e8b-4e74-9420-9199e210a59a",
   "metadata": {},
   "source": [
    "## Requirements\n",
    "- Python 3.x\n",
    "- scikit-learn\n",
    "- pandas\n",
    "- nltk\n"
   ]
  },
  {
   "cell_type": "markdown",
   "id": "32c50205-9d9e-4262-87c9-7b1e7ea7403c",
   "metadata": {},
   "source": [
    "## Setup\n",
    "\n",
    "```bash\n",
    "pip install scikit-learn pandas nltk\n",
    "```\n"
   ]
  },
  {
   "cell_type": "markdown",
   "id": "0866008d-7b50-4de1-9498-e89f525419d9",
   "metadata": {},
   "source": [
    "## Usage\n",
    "\n",
    "1. Place your dataset as `result.csv` with columns: `review`, `sentiment` (where sentiment is 'positive' or 'negative').\n",
    "2. Run the script:\n",
    "\n",
    "```bash\n",
    "python sentiment_analysis.py\n",
    "```\n"
   ]
  },
  {
   "cell_type": "markdown",
   "id": "bcfb6547-3efb-4a46-8f7d-904cf9eef8ce",
   "metadata": {},
   "source": [
    "## Example\n",
    "\n",
    "| review                        | sentiment |\n",
    "|-------------------------------|-----------|\n",
    "| I love this product!          | positive  |\n",
    "| Terrible quality, not worth it| negative  |\n"
   ]
  },
  {
   "cell_type": "code",
   "execution_count": null,
   "id": "0bd9f659-6e7a-4a18-b36d-1764f3c0cea7",
   "metadata": {},
   "outputs": [],
   "source": []
  }
 ],
 "metadata": {
  "kernelspec": {
   "display_name": "Python 3 (ipykernel)",
   "language": "python",
   "name": "python3"
  },
  "language_info": {
   "codemirror_mode": {
    "name": "ipython",
    "version": 3
   },
   "file_extension": ".py",
   "mimetype": "text/x-python",
   "name": "python",
   "nbconvert_exporter": "python",
   "pygments_lexer": "ipython3",
   "version": "3.13.5"
  }
 },
 "nbformat": 4,
 "nbformat_minor": 5
}
